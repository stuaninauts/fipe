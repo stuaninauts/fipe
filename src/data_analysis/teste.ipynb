{
 "cells": [
  {
   "cell_type": "code",
   "execution_count": 13,
   "metadata": {},
   "outputs": [],
   "source": [
    "import re\n",
    "from urllib.request import Request, urlopen\n",
    "from bs4 import BeautifulSoup\n",
    "import requests"
   ]
  },
  {
   "cell_type": "code",
   "execution_count": 49,
   "metadata": {},
   "outputs": [
    {
     "name": "stdout",
     "output_type": "stream",
     "text": [
      "O código de resposta é: 200\n",
      "Idea ESSENCE Dualogic 1.6 Flex 16V 5p\n",
      "Idea ESSENCE 1.6 Flex 16V 5p\n"
     ]
    }
   ],
   "source": [
    "placa = 'ivl1019'\n",
    "placa = 'xxx1111'\n",
    "placa = 'isl2859'\n",
    "url = f'https://placafipe.com/placa/{placa}'\n",
    "req = Request(\n",
    "    url=url, \n",
    "    headers={'User-Agent': 'Mozilla/5.0'}\n",
    ")\n",
    "response = urlopen(req)\n",
    "status_code = response.getcode()\n",
    "print(f'O código de resposta é: {status_code}')\n",
    "\n",
    "if status_code == 200:\n",
    "    soup = BeautifulSoup(response, 'html.parser')\n",
    "    aviso_placa_nao_encontrada = soup.select_one('.template-middle > div:nth-child(1) > p:nth-child(2)')\n",
    "    if aviso_placa_nao_encontrada == None:\n",
    "        tabela = soup.select_one('.fipe-desktop')\n",
    "        for linha in tabela.find_all('tr')[1:]:\n",
    "            print(linha.find_all('td')[1].text)\n",
    "    else:\n",
    "        print(aviso_placa_nao_encontrada.text)\n",
    "else:\n",
    "    print('Erro ao abrir o site: ', status_code)\n",
    "    print('Se esse problema persistir contate o desenvolvedor!')\n",
    "\n",
    "\n"
   ]
  }
 ],
 "metadata": {
  "kernelspec": {
   "display_name": "Python 3",
   "language": "python",
   "name": "python3"
  },
  "language_info": {
   "codemirror_mode": {
    "name": "ipython",
    "version": 3
   },
   "file_extension": ".py",
   "mimetype": "text/x-python",
   "name": "python",
   "nbconvert_exporter": "python",
   "pygments_lexer": "ipython3",
   "version": "3.11.4"
  },
  "orig_nbformat": 4
 },
 "nbformat": 4,
 "nbformat_minor": 2
}
